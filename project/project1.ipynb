{
 "cells": [
  {
   "cell_type": "code",
   "execution_count": 215,
   "metadata": {},
   "outputs": [],
   "source": [
    "from unqlite import UnQLite\n",
    "import math\n",
    "\n",
    "db = UnQLite('sample.db')\n",
    "data = db.collection('data')\n",
    "\n"
   ]
  },
  {
   "cell_type": "code",
   "execution_count": 216,
   "metadata": {},
   "outputs": [],
   "source": [
    "# Graded Cell: test_function\n",
    "# DO NOT REMOVE THE ABOVE LINE\n",
    "\n",
    "\n",
    "\n",
    "def FindBusinessBasedOnCity(cityToSearch,saveLocation1,collection):  \n",
    "    with open(saveLocation1, 'w') as file:\n",
    "        for business in collection:\n",
    "            name = business.get('name', '')\n",
    "            full_address = business.get('full_address', '').replace(\"\\n\", \", \")\n",
    "            city = business.get('city', '')\n",
    "            state = business.get('state', '')\n",
    "\n",
    "            if city.lower() == cityToSearch.lower():\n",
    "                business_details = f\"{name}${full_address}${city}${state}\"\n",
    "                file.write(business_details + '\\n')\n",
    "\n",
    "     \n",
    "\n",
    "def FindBusinessBasedOnLocation(categoriesToSearch, myLocation, maxDistance, saveLocation2, collection):    \n",
    "    lat1 = float(myLocation[0])\n",
    "    lon1 = float(myLocation[1])\n",
    "\n",
    "    my_set = set()\n",
    "\n",
    "    with open(saveLocation2, 'w') as file:\n",
    "        for business in collection:  \n",
    "            lat = business['latitude']\n",
    "            lon = business['longitude']\n",
    "            distance = DistanceFunction(lat, lon, lat1, lon1)                  \n",
    "            if distance <= maxDistance:\n",
    "                for category in categoriesToSearch:\n",
    "                    if category in business['categories']:\n",
    "                        if business['name'] not in my_set:\n",
    "                            my_set.add(business['name'])\n",
    "                            file.write(business['name'] + '\\n')\n",
    "\n",
    "                                  \n",
    "\n",
    "def to_radians(degrees):\n",
    "    return degrees * (math.pi / 180)\n",
    "    \n",
    "    # distance funtion\n",
    "def DistanceFunction(lat2, lon2, lat1, lon1):\n",
    "    R = 3959 \n",
    "    φ1 = to_radians(lat1)\n",
    "    φ2 = to_radians(lat2)\n",
    "    Δφ = to_radians(lat2 - lat1)\n",
    "    Δλ = to_radians(lon2 - lon1)\n",
    "\n",
    "    a = math.sin(Δφ / 2) * math.sin(Δφ / 2) + math.cos(φ1) * math.cos(φ2) * math.sin(Δλ / 2) * math.sin(Δλ / 2)\n",
    "    c = 2 * math.atan2(math.sqrt(a), math.sqrt(1 - a))\n",
    "\n",
    "    d = R * c\n",
    "    return d\n",
    "    "
   ]
  },
  {
   "cell_type": "code",
   "execution_count": 217,
   "metadata": {},
   "outputs": [
    {
     "name": "stdout",
     "output_type": "stream",
     "text": [
      "Correct! You FindBusinessByCity function passes these test cases. This does not cover all possible test edge cases, however, so make sure that your function covers them before submitting!\n"
     ]
    }
   ],
   "source": [
    "true_results = [\"VinciTorio's Restaurant$1835 E Elliot Rd, Ste C109, Tempe, AZ 85284$Tempe$AZ\", \"P.croissants$7520 S Rural Rd, Tempe, AZ 85283$Tempe$AZ\", \"Salt Creek Home$1725 W Ruby Dr, Tempe, AZ 85284$Tempe$AZ\"]\n",
    "\n",
    "try:\n",
    "    FindBusinessBasedOnCity('Tempe', 'output_city.txt', data)\n",
    "except NameError as e:\n",
    "    print ('The FindBusinessBasedOnCity function is not defined! You must run the cell containing the function before running this evaluation cell.')\n",
    "except TypeError as e:\n",
    "    print (\"The FindBusinessBasedOnCity function is supposed to accept three arguments. Yours does not!\")\n",
    "    \n",
    "try:\n",
    "    opf = open('output_city.txt', 'r')\n",
    "except FileNotFoundError as e:\n",
    "    print (\"The FindBusinessBasedOnCity function does not write data to the correct location.\")\n",
    "    \n",
    "lines = opf.readlines()\n",
    "if len(lines) != 3:\n",
    "    print (\"The FindBusinessBasedOnCity function does not find the correct number of results, should be 3.\")\n",
    "    \n",
    "lines = [line.strip() for line in lines]\n",
    "if sorted(lines) == sorted(true_results):\n",
    "    print (\"Correct! You FindBusinessByCity function passes these test cases. This does not cover all possible test edge cases, however, so make sure that your function covers them before submitting!\")"
   ]
  },
  {
   "cell_type": "code",
   "execution_count": 218,
   "metadata": {},
   "outputs": [
    {
     "name": "stdout",
     "output_type": "stream",
     "text": [
      "Correct! Your FindBusinessBasedOnLocation function passes these test cases. This does not cover all possible edge cases, so make sure your function does before submitting.\n"
     ]
    }
   ],
   "source": [
    "true_results = [\"VinciTorio's Restaurant\"]\n",
    "\n",
    "try:\n",
    "    FindBusinessBasedOnLocation(['Buffets'], [33.3482589, -111.9088346], 10, 'output_loc.txt', data)\n",
    "except NameError as e: \n",
    "    print ('The FindBusinessBasedOnLocation function is not defined! You must run the cell containing the function before running this evaluation cell.')\n",
    "except TypeError as e:\n",
    "    print (\"The FindBusinessBasedOnLocation function is supposed to accept five arguments. Yours does not!\")\n",
    "    \n",
    "try:\n",
    "    opf = open('output_loc.txt','r')\n",
    "except FileNotFoundError as e:\n",
    "    print (\"The FindBusinessBasedOnLocation function does not write data to the correct location.\")\n",
    "\n",
    "lines = opf.readlines()\n",
    "if len(lines) != 1:\n",
    "    print (\"The FindBusinessBasedOnLocation function does not find the correct number of results, should be only 1.\")\n",
    "\n",
    "if lines[0].strip() == true_results[0]:\n",
    "    print (\"Correct! Your FindBusinessBasedOnLocation function passes these test cases. This does not cover all possible edge cases, so make sure your function does before submitting.\")"
   ]
  },
  {
   "cell_type": "code",
   "execution_count": 219,
   "metadata": {},
   "outputs": [
    {
     "name": "stdout",
     "output_type": "stream",
     "text": [
      "Correct! You FindBusinessByCity function passes these test cases. This does not cover all possible test edge cases, however, so make sure that your function covers them before submitting!\n"
     ]
    }
   ],
   "source": [
    "#FindBusinessBasedOnCity\n",
    "# Test Case 1\n",
    "true_results =['3 Palms$7707 E McDowell Rd, Scottsdale, AZ 85257$Scottsdale$AZ', \"Bob's Bike Shop$1608 N Miller Rd, Scottsdale, AZ 85257$Scottsdale$AZ\", 'Ronan & Tagart, PLC$8980 E Raintree Dr, Ste 120, Scottsdale, AZ 85260$Scottsdale$AZ', \"Sangria's$7700 E McCormick Pkwy, Scottsdale, AZ 85258$Scottsdale$AZ\", 'Turf Direct$8350 E Evans Rd, Scottsdale, AZ 85260$Scottsdale$AZ']\n",
    "try: \n",
    "    FindBusinessBasedOnCity('Scottsdale', 'output_city.txt', data) \n",
    "except NameError as e: \n",
    "    print ('The FindBusinessBasedOnCity function is not defined! You must run the cell containing the function before running this evaluation cell.') \n",
    "except TypeError as e: \n",
    "    print(e) \n",
    "    print (\"The FindBusinessBasedOnCity function is supposed to accept three arguments. Yours does not!\") \n",
    "\n",
    "try: \n",
    "    opf = open('output_city.txt', 'r') \n",
    "except FileNotFoundError as e: \n",
    "    print (\"The FindBusinessBasedOnCity function does not write data to the correct location.\") \n",
    "\n",
    "lines = opf.readlines()\n",
    "if len(lines) != 5:\n",
    "    print (\"The FindBusinessBasedOnCity function does not find the correct number of results, should be 5.\") \n",
    "\n",
    "lines = [line.strip() for line in lines]\n",
    "if sorted(lines) == sorted(true_results):\n",
    "    print (\"Correct! You FindBusinessByCity function passes these test cases. This does not cover all possible test edge cases, however, so make sure that your function covers them before submitting!\")\n"
   ]
  },
  {
   "cell_type": "code",
   "execution_count": 211,
   "metadata": {},
   "outputs": [
    {
     "name": "stdout",
     "output_type": "stream",
     "text": [
      "Correct! You FindBusinessByCity function passes these test cases. This does not cover all possible test edge cases, however, so make sure that your function covers them before submitting!\n"
     ]
    }
   ],
   "source": [
    "#FindBusinessBasedOnCity\n",
    "# Test Case 2\n",
    "true_results =['Arizona Exterminating Co.$521 E Broadway Rd, Mesa, AZ 85204$Mesa$AZ', 'Bikram Yoga$1940 W 8th St, Ste 111, Mesa, AZ 85202$Mesa$AZ', \"Denny's Restaurant$1330 S Power Rd, Mesa, AZ 85206$Mesa$AZ\", 'Diamondback Gymnastics$7211 E Southern Avenue, Mesa, AZ 85209$Mesa$AZ', 'Southeast Valley Medical Group$1950 S Country Club Dr, Mesa, AZ 85210$Mesa$AZ', 'Spa Pima$2150 S Power Rd, Mesa, AZ 85209$Mesa$AZ', 'The Seafood Market$1910 S Gilbert Rd, Mesa, AZ 85204$Mesa$AZ']\n",
    "\n",
    "try:\n",
    "    FindBusinessBasedOnCity('Mesa', 'output_city.txt', data) \n",
    "except NameError as e: \n",
    "    print ('The FindBusinessBasedOnCity function is not defined! You must run the cell containing the function before running this evaluation cell.') \n",
    "except TypeError as e: \n",
    "    print(e) \n",
    "    print (\"The FindBusinessBasedOnCity function is supposed to accept three arguments. Yours does not!\")\n",
    "\n",
    "try: \n",
    "    opf = open('output_city.txt', 'r') \n",
    "except FileNotFoundError as e: \n",
    "    print (\"The FindBusinessBasedOnCity function does not write data to the correct location.\") \n",
    "\n",
    "lines = opf.readlines()\n",
    "if len(lines) != 7:\n",
    "    print (\"The FindBusinessBasedOnCity function does not find the correct number of results, should be 7.\") \n",
    "\n",
    "lines = [line.strip() for line in lines]\n",
    "if sorted(lines) == sorted(true_results):\n",
    "    print (\"Correct! You FindBusinessByCity function passes these test cases. This does not cover all possible test edge cases, however, so make sure that your function covers them before submitting!\") \n",
    "\n"
   ]
  },
  {
   "cell_type": "code",
   "execution_count": 220,
   "metadata": {},
   "outputs": [
    {
     "name": "stdout",
     "output_type": "stream",
     "text": [
      "Correct! Your FindBusinessBasedOnLocation function passes these test cases. This does not cover all possible edge cases, so make sure your function does before submitting.\n"
     ]
    }
   ],
   "source": [
    "# FindBusinessBasedOnLocation\n",
    "# Test Case 1\n",
    "true_results =['Turf Direct']\n",
    "\n",
    "try: \n",
    "    FindBusinessBasedOnLocation(['Gardeners'], [33.3482589, -111.9088346], 20, 'output_loc.txt', data)\n",
    "except NameError as e: \n",
    "    print ('The FindBusinessBasedOnLocation function is not defined! You must run the cell containing the function before running this evaluation cell.') \n",
    "except TypeError as e: \n",
    "    print (\"The FindBusinessBasedOnLocation function is supposed to accept five arguments. Yours does not!\") \n",
    "\n",
    "try:\n",
    "    opf = open('output_loc.txt','r') \n",
    "except FileNotFoundError as e: \n",
    "    print (\"The FindBusinessBasedOnLocation function does not write data to the correct location.\") \n",
    "\n",
    "lines = opf.readlines()\n",
    "if len(lines) != 1:\n",
    "    print (\"The FindBusinessBasedOnLocation function does not find the correct number of results, should be only 1.\") \n",
    "\n",
    "lines = [line.strip() for line in lines]\n",
    "if sorted(lines) == sorted(true_results):\n",
    "    print (\"Correct! Your FindBusinessBasedOnLocation function passes these test cases. This does not cover all possible edge cases, so make sure your function does before submitting.\")\n"
   ]
  },
  {
   "cell_type": "code",
   "execution_count": 209,
   "metadata": {},
   "outputs": [
    {
     "name": "stdout",
     "output_type": "stream",
     "text": [
      "Correct! Your FindBusinessBasedOnLocation function passes these test cases. This does not cover all possible edge cases, so make sure your function does before submitting.\n"
     ]
    }
   ],
   "source": [
    "# FindBusinessBasedOnLocation\n",
    "# Test Case 2\n",
    "true_results = ['Nothing Bundt Cakes', 'P.croissants'] \n",
    "\n",
    "try: \n",
    "    FindBusinessBasedOnLocation(['Bakeries'], [33.3482589, -111.9088346], 15, 'output_loc.txt', data)\n",
    "except NameError as e: \n",
    "    print ('The FindBusinessBasedOnLocation function is not defined! You must run the cell containing the function before running this evaluation cell.') \n",
    "except TypeError as e: \n",
    "    print (\"The FindBusinessBasedOnLocation function is supposed to accept five arguments. Yours does not!\")\n",
    "\n",
    "try: \n",
    "    opf = open('output_loc.txt','r') \n",
    "except FileNotFoundError as e: \n",
    "    print (\"The FindBusinessBasedOnLocation function does not write data to the correct location.\")\n",
    "\n",
    "lines = opf.readlines()\n",
    "if len(lines) != 2: \n",
    "    print (\"The FindBusinessBasedOnLocation function does not find the correct number of results, should be only 2.\")\n",
    "\n",
    "lines = [line.strip() for line in lines]\n",
    "if sorted(lines) == sorted(true_results): \n",
    "    print (\"Correct! Your FindBusinessBasedOnLocation function passes these test cases. This does not cover all possible edge cases, so make sure your function does before submitting.\")\n"
   ]
  },
  {
   "cell_type": "code",
   "execution_count": 221,
   "metadata": {},
   "outputs": [
    {
     "name": "stdout",
     "output_type": "stream",
     "text": [
      "Correct! Your FindBusinessBasedOnLocation function passes these test cases. This does not cover all possible edge cases, so make sure your function does before submitting.\n"
     ]
    }
   ],
   "source": [
    "# FindBusinessBasedOnLocation\n",
    "# Test Case 3\n",
    "true_results = ['Nothing Bundt Cakes', 'Olive Creations', 'P.croissants', 'The Seafood Market']\n",
    "\n",
    "try: \n",
    "    FindBusinessBasedOnLocation(['Food', 'Specialty Food'], [33.3482589, -111.9088346], 30, 'output_loc.txt', data) \n",
    "except NameError as e: \n",
    "    print ('The FindBusinessBasedOnLocation function is not defined! You must run the cell containing the function before running this evaluation cell.') \n",
    "except TypeError as e: \n",
    "    print (\"The FindBusinessBasedOnLocation function is supposed to accept five arguments. Yours does not!\")\n",
    "\n",
    "try: \n",
    "    opf = open('output_loc.txt','r') \n",
    "except FileNotFoundError as e: \n",
    "    print (\"The FindBusinessBasedOnLocation function does not write data to the correct location.\")\n",
    "\n",
    "lines = opf.readlines()\n",
    "if len(lines) != 4: \n",
    "    print (\"The FindBusinessBasedOnLocation function does not find the correct number of results, should be only 4.\")\n",
    "\n",
    "lines = [line.strip() for line in lines]\n",
    "if sorted(lines) == sorted(true_results): \n",
    "    print (\"Correct! Your FindBusinessBasedOnLocation function passes these test cases. This does not cover all possible edge cases, so make sure your function does before submitting.\")\n"
   ]
  },
  {
   "cell_type": "code",
   "execution_count": null,
   "metadata": {},
   "outputs": [],
   "source": []
  }
 ],
 "metadata": {
  "kernelspec": {
   "display_name": "Python 3 (ipykernel)",
   "language": "python",
   "name": "python3"
  },
  "language_info": {
   "codemirror_mode": {
    "name": "ipython",
    "version": 3
   },
   "file_extension": ".py",
   "mimetype": "text/x-python",
   "name": "python",
   "nbconvert_exporter": "python",
   "pygments_lexer": "ipython3",
   "version": "3.11.5"
  }
 },
 "nbformat": 4,
 "nbformat_minor": 4
}
